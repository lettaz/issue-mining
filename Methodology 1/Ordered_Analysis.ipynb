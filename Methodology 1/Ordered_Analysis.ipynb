{
 "cells": [
  {
   "cell_type": "code",
   "execution_count": 2,
   "id": "d583dcfa",
   "metadata": {},
   "outputs": [
    {
     "name": "stdout",
     "output_type": "stream",
     "text": [
      "Average completion time for an issue labelled as feature is 288d 16h 20m 5s\n"
     ]
    }
   ],
   "source": [
    "import pandas as pd\n",
    "import numpy as np\n",
    "\n",
    "def format_time(days):\n",
    "    # This function will convert days into days, hours, minutes, seconds format\n",
    "    total_seconds = days * 24 * 3600  # Convert the input days to seconds\n",
    "    days = total_seconds // (24*3600)\n",
    "    total_seconds %= (24*3600)\n",
    "    hours = total_seconds // 3600\n",
    "    total_seconds %= 3600\n",
    "    minutes = total_seconds // 60\n",
    "    total_seconds %= 60\n",
    "    return f\"{int(days)}d {int(hours)}h {int(minutes)}m {int(total_seconds)}s\"\n",
    "\n",
    "# Read the DataFrame from the intermediate_results.csv\n",
    "df_new = pd.read_csv('intermediate_results.csv')\n",
    "\n",
    "# Calculate the average completion time (still in seconds)\n",
    "avg_completion_time = df_new['Completion Time'].mean()\n",
    "\n",
    "# Print the average completion time in your desired format\n",
    "print(f\"Average completion time for an issue labelled as feature is {format_time(avg_completion_time)}\")\n",
    "\n",
    "# Convert 'Completion Time' from seconds to the format you specified and replace the column\n",
    "df_new['Completion Time'] = df_new['Completion Time'].apply(format_time)\n",
    "\n",
    "# Sort the DataFrame based on 'Completion Time' in descending order\n",
    "df_new.sort_values(by='Completion Time', ascending=False, inplace=True)\n",
    "\n",
    "# Write the DataFrame to the new CSV file\n",
    "df_new.to_csv('complete_analysis.csv', index=False)\n"
   ]
  },
  {
   "cell_type": "code",
   "execution_count": 3,
   "id": "5e53ec5e",
   "metadata": {},
   "outputs": [],
   "source": [
    "def parse_time(time_str):\n",
    "    # This function will convert 'days, hours, minutes, seconds' format back to seconds\n",
    "    d, h, m, s = map(int, time_str.replace('d', '').replace('h', '').replace('m', '').replace('s', '').split())\n",
    "    return d*24*3600 + h*3600 + m*60 + s\n",
    "\n",
    "# Read the DataFrame from the complete_analysis.csv\n",
    "df = pd.read_csv('complete_analysis.csv')\n",
    "\n",
    "# Add a new column 'Total Time' which is the 'Completion Time' converted back to seconds\n",
    "df['Total Time'] = df['Completion Time'].apply(parse_time)\n",
    "\n",
    "# Sort the DataFrame based on 'Total Time' in descending order\n",
    "df.sort_values(by='Total Time', ascending=False, inplace=True)\n",
    "\n",
    "# Remove the 'Total Time' column as we no longer need it\n",
    "df.drop('Total Time', axis=1, inplace=True)\n",
    "\n",
    "# Write the DataFrame back to the complete_analysis.csv file\n",
    "df.to_csv('complete_analysis.csv', index=False)"
   ]
  },
  {
   "cell_type": "code",
   "execution_count": null,
   "id": "f0ef6914",
   "metadata": {},
   "outputs": [],
   "source": []
  }
 ],
 "metadata": {
  "kernelspec": {
   "display_name": "Python 3 (ipykernel)",
   "language": "python",
   "name": "python3"
  },
  "language_info": {
   "codemirror_mode": {
    "name": "ipython",
    "version": 3
   },
   "file_extension": ".py",
   "mimetype": "text/x-python",
   "name": "python",
   "nbconvert_exporter": "python",
   "pygments_lexer": "ipython3",
   "version": "3.10.11"
  }
 },
 "nbformat": 4,
 "nbformat_minor": 5
}
